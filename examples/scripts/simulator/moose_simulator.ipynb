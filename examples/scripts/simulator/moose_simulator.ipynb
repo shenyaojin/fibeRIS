{
 "cells": [
  {
   "metadata": {},
   "cell_type": "markdown",
   "source": [
    "# Example: MOOSE wrapper in fiberis\n",
    "\n",
    "Shenyao Jin, shenyaojin@mines.edu\n",
    "\n",
    "`fiberis` provides a module to simulate the pressure diffusion using HMM(Hydro-Mechanical Model). `fiberis.moose` is able to control the whole simulation without interacting with the terminal and annoying `.i`, `.e` and `.csv` files!\n",
    "\n",
    "For this script, I'm going to give a full simulation example so that you can understand the full workflow of `fiberis.moose` module."
   ],
   "id": "322a509fd27a37e0"
  },
  {
   "cell_type": "code",
   "id": "initial_id",
   "metadata": {
    "collapsed": true
   },
   "source": [
    "import os\n",
    "\n",
    "from DSS_analyzer_Mariner.Data1D_GAUGE import Data1D_GAUGE\n",
    "%load_ext autoreload\n",
    "%autoreload 2"
   ],
   "outputs": [],
   "execution_count": null
  },
  {
   "metadata": {},
   "cell_type": "markdown",
   "source": [
    "Dependence: **MOOSE**.\n",
    "\n",
    "If you don't know how to install it, refer to my [note](https://shenyaojin.github.io/theory/fiberis-setup/), it will provide instructions on how to install the MOOSE env on UNIX-like systems.\n",
    "\n",
    "## Import libs\n",
    "\n",
    "`fiberis.moose` has multiple libs playing different roles of the whole simulation."
   ],
   "id": "2603642efa665bf1"
  },
  {
   "metadata": {},
   "cell_type": "code",
   "source": [
    "import numpy as np\n",
    "import matplotlib.pyplot as plt\n",
    "import datetime\n",
    "import os"
   ],
   "id": "8099444ca74b1e6",
   "outputs": [],
   "execution_count": null
  },
  {
   "metadata": {
    "ExecuteTime": {
     "end_time": "2025-10-24T22:11:08.197599245Z",
     "start_time": "2025-10-24T22:11:07.306938723Z"
    }
   },
   "cell_type": "code",
   "source": [
    "# fiberis modules\n",
    "from fiberis.moose.model_builder import ModelBuilder\n",
    "from fiberis.moose.runner import MooseRunner\n",
    "from fiberis.moose.config import (\n",
    "    MatrixConfig, SRVConfig, HydraulicFractureConfig, ZoneMaterialProperties,\n",
    "    SimpleFluidPropertiesConfig, PointValueSamplerConfig, LineValueSamplerConfig, TimeSequenceStepper\n",
    ")\n",
    "from fiberis.analyzer.Data1D.Data1D_Gauge import Data1DGauge"
   ],
   "id": "5de03ef0f6007897",
   "outputs": [],
   "execution_count": 18
  },
  {
   "metadata": {},
   "cell_type": "markdown",
   "source": [
    "## Problem statement\n",
    "\n",
    "In this case, the PDE problem is a typical and easy problem I will encounter in his research: coupled pressure-strain diffusion:\n",
    "\n",
    "1. mesh: `200 m` * `200 m` (length * width).\n",
    "2. Physical field:\n",
    "    - Hydraulic fracture (HF) has the highest permeability `1e-12` $m^2$, height `0.2 m` width `50 m`. At the center of mesh.\n",
    "    - Stimulated Reservoir Volume (SRV) has lower permeability, `1e-15` $m^2$, height `20 m` width `80m`. Around the fracture\n",
    "    - Matrix has the lowest permeability, `1e-17` $m^2$. All other areas not covered by HF and SRV\n",
    "    - The media flowing in the grid is **water**.\n",
    "3. 1x injection (source, or boundary condition (B.C.)): at the center of HF, it's defined in pressure (psi or Pa, not in volume).\n",
    "4. Params to solve: (1). The pressure field, (2) The strain tensor field which is represented in $\\varepsilon_{xx}$ and $\\varepsilon_{yy}$.\n",
    "5. Governing equation: the classic HM model. Delete the thermal term in [this paper](https://www.sciencedirect.com/science/article/pii/S1365160909001695). I'm too lazy to use LaTeX to type all the equations. :P\n",
    "6. Boundaries: 4x Neumann B.C (left, right, top, bottom) and forced pressure at the center of HF.\n",
    "7. Postprocessor: I'll observe the pressure/strain perpendicular to fracture, and also in multiple points at my interested areas.\n",
    "8. Executioner: ConstantDT, with mumps preconditioner. The solver is default: `Newton`.\n",
    "9. Output: the simulation will output a series of `.csv` files, which can be handled by `fiberis` easily."
   ],
   "id": "7b5d71f17cfe368a"
  },
  {
   "metadata": {},
   "cell_type": "markdown",
   "source": [
    "## Step 1: I/O\n",
    "\n",
    "First, we need to tell `fiberis` where the results will be stored, where the source `.npz` files (in this case, all data are synthetic) will be read in."
   ],
   "id": "7d185b1089befd54"
  },
  {
   "metadata": {
    "ExecuteTime": {
     "end_time": "2025-10-24T20:55:54.193573827Z",
     "start_time": "2025-10-24T20:55:54.167269221Z"
    }
   },
   "cell_type": "code",
   "source": [
    "output_dir = \"../../output/moose_simulator\"\n",
    "os.makedirs(output_dir, exist_ok=True) # The location of the postprocessor files\n",
    "input_file_name = os.path.join(output_dir, \"example_moose_input_file.i\") # Although you don't need to interact with the input file, still needed for the frame."
   ],
   "id": "c0011441d2e850bf",
   "outputs": [],
   "execution_count": 6
  },
  {
   "metadata": {
    "ExecuteTime": {
     "end_time": "2025-10-24T20:56:36.385576356Z",
     "start_time": "2025-10-24T20:56:36.358939018Z"
    }
   },
   "cell_type": "code",
   "source": "builder = ModelBuilder(project_name=\"example_moose\") # Select the name you like.",
   "id": "ac05346033cc0364",
   "outputs": [],
   "execution_count": 7
  },
  {
   "metadata": {},
   "cell_type": "markdown",
   "source": [
    "## Step 2: Mesh builder\n",
    "\n",
    "`fiberis` can generate the moose automatically if you gave the correct parameters. You don't need to set every block manually like what you did in `.i` file."
   ],
   "id": "136fc4711375be7e"
  },
  {
   "metadata": {
    "ExecuteTime": {
     "end_time": "2025-10-24T21:14:09.821605721Z",
     "start_time": "2025-10-24T21:14:09.528871665Z"
    }
   },
   "cell_type": "code",
   "source": [
    "builder.build_stitched_mesh_for_fractures(\n",
    "    fracture_y_coords = 0, # the fracture location(s). Make it a list if you want to simulate multiple HFs.\n",
    "    domain_bounds = (-100, 100), # the total width of the mesh, 200 m as I mentioned in the problem statement, I like to put it like frac = 0, domain bounds = -100 -> 100; you can also set it like frac = 100, bound = 0 -> 200 which would also be fine.\n",
    "    domain_length = 200, # the toal length of the mesh\n",
    "    nx = 200, # How many grid you would like to set for the mesh, in **x/length** direction\n",
    "    ny_per_layer_half = 40, # How many (grid / 2) you would like to set for the mesh, in **y/width** direction\n",
    "    bias_y = 1.2, # the bias coefficient for y-axis sampling. bias = 1.2 means if the dy_{n-1} = 1 m, then dy_{n} = 1.2 m\n",
    ")"
   ],
   "id": "9fb6ac5033055b91",
   "outputs": [
    {
     "name": "stdout",
     "output_type": "stream",
     "text": [
      "Info: Successfully built stitched base mesh 'final_stitch_0'.\n"
     ]
    },
    {
     "data": {
      "text/plain": [
       "<fiberis.moose.model_builder.ModelBuilder at 0x7f046f0473b0>"
      ]
     },
     "execution_count": 8,
     "metadata": {},
     "output_type": "execute_result"
    }
   ],
   "execution_count": 8
  },
  {
   "metadata": {},
   "cell_type": "markdown",
   "source": [
    "## Step 3: add elements to the mesh\n",
    "`fiberis` focus on fracture and SRVs and is able to add them to grid in simple commands.\n",
    "\n",
    "Here are what we need to do: (1) define the properties of each material, (2) fill out the mesh  with material in (1)."
   ],
   "id": "628a5f2852bfbdfc"
  },
  {
   "metadata": {
    "ExecuteTime": {
     "end_time": "2025-10-24T21:16:35.009470209Z",
     "start_time": "2025-10-24T21:16:34.659132418Z"
    }
   },
   "cell_type": "code",
   "source": [
    "# Define porous materials.\n",
    "matrix_mats = ZoneMaterialProperties(porosity=0.01, permeability=\"'1E-17 0 0  0 1E-17 0  0 0 1E-17'\")\n",
    "srv_mats = ZoneMaterialProperties(porosity=0.1, permeability=\"'1E-15 0 0  0 1E-15 0  0 0 1E-15'\")\n",
    "fracture_mats = ZoneMaterialProperties(porosity=0.1, permeability=\"'1E-12 0 0  0 1E-12 0  0 0 1E-12'\")"
   ],
   "id": "5bacb0bdbc8eb212",
   "outputs": [],
   "execution_count": 9
  },
  {
   "metadata": {
    "ExecuteTime": {
     "end_time": "2025-10-24T21:21:40.704207182Z",
     "start_time": "2025-10-24T21:21:40.677996899Z"
    }
   },
   "cell_type": "code",
   "source": [
    "center_x_val = 100 # it's domain_length/2, just because I want to put the elements at the center of grid\n",
    "\n",
    "geometries = [\n",
    "    SRVConfig(name=\"SRV\", length=80, height=20, center_x=center_x_val, center_y=0, materials=srv_mats),\n",
    "    HydraulicFractureConfig(name=\"Fracture\", length=50, height=0.2, center_x=center_x_val, center_y=0, materials=fracture_mats)\n",
    "]\n",
    "\n",
    "# Fill out the mesh. NOTE: sort them first. The fracture must be set after SRV, or the larger SRV will cover the HF while doing simulation.\n",
    "sorted_geometries = sorted(geometries, key=lambda x: x.height, reverse=True)\n",
    "next_block_id = 1\n",
    "for geom_config in sorted_geometries:\n",
    "    if isinstance(geom_config, SRVConfig): # If the geometry is SRV, the do SRV configuration\n",
    "        builder.add_srv_config(geom_config)\n",
    "        builder.add_srv_zone_2d(geom_config, target_block_id=next_block_id)\n",
    "    elif isinstance(geom_config, HydraulicFractureConfig): # If the geometry is HF, the do hydraulic fracture configuration\n",
    "        builder.add_fracture_config(geom_config)\n",
    "        builder.add_hydraulic_fracture_2d(geom_config, target_block_id=next_block_id)\n",
    "    next_block_id += 1"
   ],
   "id": "a6908bdcc0219cb4",
   "outputs": [],
   "execution_count": 11
  },
  {
   "metadata": {
    "ExecuteTime": {
     "end_time": "2025-10-24T21:35:37.922604371Z",
     "start_time": "2025-10-24T21:35:37.724491023Z"
    }
   },
   "cell_type": "code",
   "source": [
    "# Add the injection/pressure B.C. to the HF\n",
    "builder.add_nodeset_by_coord(\n",
    "    nodeset_op_name = \"injection\", # The name display in DOT \"i\" file\n",
    "    new_boundary_name=\"injection\", # The boundary name\n",
    "    coordinates=(center_x_val, 0, 0)\n",
    ")"
   ],
   "id": "bbf84abe715fa271",
   "outputs": [
    {
     "data": {
      "text/plain": [
       "<fiberis.moose.model_builder.ModelBuilder at 0x7f046f0473b0>"
      ]
     },
     "execution_count": 13,
     "metadata": {},
     "output_type": "execute_result"
    }
   ],
   "execution_count": 13
  },
  {
   "metadata": {
    "ExecuteTime": {
     "end_time": "2025-10-24T22:04:22.572812481Z",
     "start_time": "2025-10-24T22:04:22.378592806Z"
    }
   },
   "cell_type": "code",
   "source": [
    "# Tel\n",
    "biot_coeff_val = 0.7\n",
    "fluid_props = SimpleFluidPropertiesConfig(name=\"water\", bulk_modulus=2.2E9, viscosity=1.0E-3, density0=1000.0)\n",
    "# Viscosity: 1e-3 pa*s\n",
    "builder.add_fluid_properties_config(fluid_props)\n",
    "builder.add_poromechanics_materials(\n",
    "    fluid_properties_name=\"water\",\n",
    "    biot_coefficient=biot_coeff_val,\n",
    "    solid_bulk_compliance=2E-11\n",
    ")"
   ],
   "id": "8e29b52e796720eb",
   "outputs": [
    {
     "name": "stdout",
     "output_type": "stream",
     "text": [
      "Info: Added SimpleFluidProperties 'water'.\n",
      "Info: Added poromechanics materials based on stored configurations.\n"
     ]
    },
    {
     "data": {
      "text/plain": [
       "<fiberis.moose.model_builder.ModelBuilder at 0x7f046f0473b0>"
      ]
     },
     "execution_count": 17,
     "metadata": {},
     "output_type": "execute_result"
    }
   ],
   "execution_count": 17
  },
  {
   "metadata": {},
   "cell_type": "markdown",
   "source": [
    "## Add physics to the PDE problem\n",
    "\n",
    "After defining the mesh in the problem, then is to tell the simulator what physical process is going during the simulation."
   ],
   "id": "13eaf9571272d938"
  },
  {
   "metadata": {
    "ExecuteTime": {
     "end_time": "2025-10-24T21:36:07.187647166Z",
     "start_time": "2025-10-24T21:36:07.140371051Z"
    }
   },
   "cell_type": "code",
   "source": [
    "# What\n",
    "builder.add_variables([\n",
    "    {\"name\": \"pp\", \"params\": {\"initial_condition\": 0}}, # Initial pressure ~ let's do 0 at this case.\n",
    "    {\"name\": \"disp_x\", \"params\": {\"initial_condition\": 0}},\n",
    "    {\"name\": \"disp_y\", \"params\": {\"initial_condition\": 0}}\n",
    "])"
   ],
   "id": "487848729b01fab8",
   "outputs": [
    {
     "name": "stdout",
     "output_type": "stream",
     "text": [
      "Info: Added 3 variables.\n"
     ]
    },
    {
     "data": {
      "text/plain": [
       "<fiberis.moose.model_builder.ModelBuilder at 0x7f046f0473b0>"
      ]
     },
     "execution_count": 14,
     "metadata": {},
     "output_type": "execute_result"
    }
   ],
   "execution_count": 14
  },
  {
   "metadata": {
    "ExecuteTime": {
     "end_time": "2025-10-24T21:42:59.517940682Z",
     "start_time": "2025-10-24T21:42:59.319672525Z"
    }
   },
   "cell_type": "code",
   "source": [
    "# Dictators\n",
    "builder.set_porous_flow_dictator(dictator_name=\"dictator\", porous_flow_variables=\"pp\")\n",
    "builder.add_global_params({\"PorousFlowDictator\": \"dictator\", \"displacements\": \"'disp_x disp_y'\"})"
   ],
   "id": "e6fadfdab53b2942",
   "outputs": [
    {
     "name": "stdout",
     "output_type": "stream",
     "text": [
      "Info: Added/Updated UserObject 'dictator'.\n",
      "Info: Added [GlobalParams] block.\n"
     ]
    },
    {
     "data": {
      "text/plain": [
       "<fiberis.moose.model_builder.ModelBuilder at 0x7f046f0473b0>"
      ]
     },
     "execution_count": 15,
     "metadata": {},
     "output_type": "execute_result"
    }
   ],
   "execution_count": 15
  },
  {
   "metadata": {
    "ExecuteTime": {
     "end_time": "2025-10-24T21:49:56.431132997Z",
     "start_time": "2025-10-24T21:49:56.209175953Z"
    }
   },
   "cell_type": "code",
   "source": [
    "# Add kernels to the simulator. Here are some typical kernels used in HMM.\n",
    "builder.add_porous_flow_mass_time_derivative_kernel(kernel_name=\"dt\", variable=\"pp\")\n",
    "builder.add_porous_flow_darcy_base_kernel(kernel_name=\"flux\", variable=\"pp\")\n",
    "builder.add_stress_divergence_tensor_kernel(kernel_name=\"grad_stress_x\", variable=\"disp_x\", component=0)\n",
    "builder.add_stress_divergence_tensor_kernel(kernel_name=\"grad_stress_y\", variable=\"disp_y\", component=1)\n",
    "builder.add_porous_flow_effective_stress_coupling_kernel(kernel_name=\"eff_stress_x\", variable=\"disp_x\", component=0, biot_coefficient=biot_coeff_val)\n",
    "builder.add_porous_flow_effective_stress_coupling_kernel(kernel_name=\"eff_stress_y\", variable=\"disp_y\", component=1, biot_coefficient=biot_coeff_val)\n",
    "builder.add_porous_flow_mass_volumetric_expansion_kernel(kernel_name=\"mass_exp\", variable=\"pp\")"
   ],
   "id": "ffb6e7a2b06bd4f5",
   "outputs": [
    {
     "data": {
      "text/plain": [
       "<fiberis.moose.model_builder.ModelBuilder at 0x7f046f0473b0>"
      ]
     },
     "execution_count": 16,
     "metadata": {},
     "output_type": "execute_result"
    }
   ],
   "execution_count": 16
  },
  {
   "metadata": {
    "ExecuteTime": {
     "end_time": "2025-10-24T22:15:54.387790059Z",
     "start_time": "2025-10-24T22:15:54.085537024Z"
    }
   },
   "cell_type": "code",
   "source": [
    "# For the pressure in HFs, use synthetic data\n",
    "pressure_time = np.linspace(0, 3600, 72) # 72 points, each one is 50s\n",
    "pressure_val = np.linspace(0, 5000, 72)\n",
    "\n",
    "dataframe_injection = Data1DGauge()\n",
    "dataframe_injection.taxis = pressure_time\n",
    "dataframe_injection.data = pressure_val\n",
    "dataframe_injection.start_time = datetime.datetime(2025, 1, 1, 0, 0, 0)\n",
    "dataframe_injection.name = \"injection\""
   ],
   "id": "398ca8db75ef79a1",
   "outputs": [],
   "execution_count": 23
  },
  {
   "metadata": {
    "ExecuteTime": {
     "end_time": "2025-10-24T22:16:47.787257301Z",
     "start_time": "2025-10-24T22:16:47.739968950Z"
    }
   },
   "cell_type": "code",
   "source": [
    "# Add this array to the simulator, and it will be the B.C. I will use in the next step\n",
    "builder.add_piecewise_function_from_data1d(name=\"injection_pressure_func\", source_data1d=dataframe_injection)"
   ],
   "id": "c139ad38b4bf6387",
   "outputs": [
    {
     "name": "stdout",
     "output_type": "stream",
     "text": [
      "Info: Added PiecewiseConstant Function 'injection_pressure_func' from Data1D source.\n"
     ]
    },
    {
     "data": {
      "text/plain": [
       "<fiberis.moose.model_builder.ModelBuilder at 0x7f046f0473b0>"
      ]
     },
     "execution_count": 24,
     "metadata": {},
     "output_type": "execute_result"
    }
   ],
   "execution_count": 24
  },
  {
   "metadata": {
    "ExecuteTime": {
     "end_time": "2025-10-24T22:17:06.464504497Z",
     "start_time": "2025-10-24T22:17:06.179655937Z"
    }
   },
   "cell_type": "code",
   "source": [
    "# Set up all the BC, including the HF pressure.\n",
    "builder.set_hydraulic_fracturing_bcs(\n",
    "    injection_well_boundary_name=\"injection\", # those injection location(s). Use space to separate different HF injection names.\n",
    "    injection_pressure_function_name=\"injection_pressure_func\", # The name of injection, mentioned in the last block\n",
    "    confine_disp_x_boundaries=\"left right\",\n",
    "    confine_disp_y_boundaries=\"top bottom\"\n",
    "    # left, right, top, bottom are predefined in the simulator.\n",
    ")"
   ],
   "id": "b96720aea43ce43b",
   "outputs": [
    {
     "name": "stdout",
     "output_type": "stream",
     "text": [
      "Info: Added Boundary Condition 'injection_pressure'.\n",
      "Info: Added Boundary Condition 'confinex'.\n",
      "Info: Added Boundary Condition 'confiney'.\n",
      "Info: Set standard hydraulic fracturing BCs using predefined set.\n"
     ]
    },
    {
     "data": {
      "text/plain": [
       "<fiberis.moose.model_builder.ModelBuilder at 0x7f046f0473b0>"
      ]
     },
     "execution_count": 25,
     "metadata": {},
     "output_type": "execute_result"
    }
   ],
   "execution_count": 25
  },
  {
   "metadata": {
    "ExecuteTime": {
     "end_time": "2025-10-24T22:20:22.492893735Z",
     "start_time": "2025-10-24T22:20:22.257916779Z"
    }
   },
   "cell_type": "code",
   "source": [
    "# Add aux kernels. In most cases we don't need to do any modifications on it. Just tell the simulator how to convert the displacement to strain & stress.\n",
    "builder.add_standard_tensor_aux_vars_and_kernels({\"stress\": \"stress\", \"total_strain\": \"strain\"})"
   ],
   "id": "c71900d88e1ee2e9",
   "outputs": [
    {
     "name": "stdout",
     "output_type": "stream",
     "text": [
      "Info: Added standard AuxVariables and AuxKernels for tensors: ['stress', 'total_strain']\n"
     ]
    },
    {
     "data": {
      "text/plain": [
       "<fiberis.moose.model_builder.ModelBuilder at 0x7f046f0473b0>"
      ]
     },
     "execution_count": 26,
     "metadata": {},
     "output_type": "execute_result"
    }
   ],
   "execution_count": 26
  },
  {
   "metadata": {},
   "cell_type": "markdown",
   "source": [
    "## Add monitor/postprocessor to the whole problem\n",
    "After configuring the physics happened in that mesh, we need to sample some of the places which we are interested in. Here I'll add a linear sampler perpendicular to the HF, then do another point sampler near the HF."
   ],
   "id": "424bebd148406ea7"
  },
  {
   "metadata": {},
   "cell_type": "code",
   "outputs": [],
   "execution_count": null,
   "source": [
    "builder.add_postprocessor(\n",
    "    PointValueSamplerConfig(name = \"upper_point_sampler\", # The name of the sampler, better not use space!\n",
    "                            variable = \"pp\",  # The variable I want to monitor; see variables. The aux variables can be also monitored.\n",
    "                            point = (center_x_val, 30, 0) # Location of the sampler.\n",
    "                            )\n",
    ")\n",
    "\n",
    "builder.add_postprocessor(\n",
    "    PointValueSamplerConfig(name = \"lower_point_sampler\",\n",
    "                            variable = \"strain_yy\",\n",
    "                            point = (center_x_val, -30, 0)\n",
    "                            )\n",
    ")\n",
    "\n",
    "builder.add_postprocessor(\n",
    "    LineValueSamplerConfig( # The linear sampler\n",
    "        name = \"strain_vertical\",\n",
    "        variable = \"strain_yy\",\n",
    "        start_point = (center_x_val, -50, 0),\n",
    "        end_point = (center_x_val, 50, 0),\n",
    "        num_points = 200,\n",
    "        other_params = {'sort_y': 'y'}\n",
    "    )\n",
    ")"
   ],
   "id": "dc5f64a9fe114311"
  },
  {
   "metadata": {},
   "cell_type": "code",
   "outputs": [],
   "execution_count": null,
   "source": [
    "# Get the time info of the full simulation\n",
    "total_time = dataframe_injection.taxis[-1] - dataframe_injection.taxis[0]\n",
    "dt_control_func = TimeSequenceStepper()\n",
    "dt_control_func.from_data1d(dataframe_injection)"
   ],
   "id": "de53d091d516ec1e"
  },
  {
   "metadata": {},
   "cell_type": "code",
   "outputs": [],
   "execution_count": null,
   "source": [
    "# Time stepper, I will comment the constDT method, use TimeSequenceStepper\n",
    "# builder.add_executioner_block(\n",
    "#     end_time = total_time,\n",
    "#     dt = total_time / 50,\n",
    "#     time_stepper_type = 'ConstantDT'\n",
    "# )\n",
    "\n",
    "builder.add_executioner_block(\n",
    "    end_time = total_time,\n",
    "    dt = total_time / 50, # I remember in sequence stepper you don't need a dt\n",
    "    time_stepper_type = 'TimeSequenceStepper',\n",
    "    stepper_config = dt_control_func\n",
    ")"
   ],
   "id": "e6e101acbe210d03"
  }
 ],
 "metadata": {
  "kernelspec": {
   "display_name": "Python 3",
   "language": "python",
   "name": "python3"
  },
  "language_info": {
   "codemirror_mode": {
    "name": "ipython",
    "version": 2
   },
   "file_extension": ".py",
   "mimetype": "text/x-python",
   "name": "python",
   "nbconvert_exporter": "python",
   "pygments_lexer": "ipython2",
   "version": "2.7.6"
  }
 },
 "nbformat": 4,
 "nbformat_minor": 5
}
