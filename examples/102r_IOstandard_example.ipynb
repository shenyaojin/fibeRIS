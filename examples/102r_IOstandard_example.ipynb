{
 "cells": [
  {
   "cell_type": "code",
   "execution_count": null,
   "id": "initial_id",
   "metadata": {
    "collapsed": true
   },
   "outputs": [],
   "source": [
    "import numpy as np\n",
    "from fiberis.analyzer.io import reader_mariner_gauge1d\n",
    "import numpy as np\n",
    "import os, glob\n",
    "\n",
    "# Load the path\n",
    "GAUGEdata_path = 'data/legacy/s_well/gauge_data/' # Old files\n",
    "output_path = 'data/new/s_well/gauge_data/' # Fiberis supported files\n",
    "file_list = os.listdir(GAUGEdata_path)\n",
    "file_path = [GAUGEdata_path + file for file in file_list]\n",
    "for file in file_list:\n",
    "    gauge_data = reader_mariner_gauge1d.MarinerGauge1D()\n",
    "    gauge_data.read(GAUGEdata_path + file)\n",
    "    gauge_data.write(output_path + file)"
   ]
  }
 ],
 "metadata": {
  "kernelspec": {
   "display_name": "Python 3",
   "language": "python",
   "name": "python3"
  },
  "language_info": {
   "codemirror_mode": {
    "name": "ipython",
    "version": 2
   },
   "file_extension": ".py",
   "mimetype": "text/x-python",
   "name": "python",
   "nbconvert_exporter": "python",
   "pygments_lexer": "ipython2",
   "version": "2.7.6"
  }
 },
 "nbformat": 4,
 "nbformat_minor": 5
}
